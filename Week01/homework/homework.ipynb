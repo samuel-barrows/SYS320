{
 "cells": [
  {
   "cell_type": "code",
   "execution_count": 41,
   "id": "cf5c5e01-fe25-43d1-becb-ec2436e6e49e",
   "metadata": {},
   "outputs": [
    {
     "data": {
      "text/plain": [
       "<module 'syslogSSHUsers' from 'C:\\\\Users\\\\SamThinkpad\\\\school\\\\ThirdYear\\\\SecondSemester\\\\sys320-new\\\\Week01\\\\homework\\\\syslogSSHUsers.py'>"
      ]
     },
     "execution_count": 41,
     "metadata": {},
     "output_type": "execute_result"
    }
   ],
   "source": [
    "import syslogKlogin\n",
    "import syslogSSHUsers\n",
    "import importlib\n",
    "importlib.reload(syslogKlogin)\n",
    "importlib.reload(syslogSSHUsers)"
   ]
  },
  {
   "cell_type": "markdown",
   "id": "b5e530f8-1acf-4fac-8d32-4265f93616e1",
   "metadata": {},
   "source": [
    "# Review System Logs"
   ]
  },
  {
   "cell_type": "markdown",
   "id": "0ff1ed3a-87b4-405a-af5c-70f3e4203fbe",
   "metadata": {},
   "source": [
    "### Klogind Failure"
   ]
  },
  {
   "cell_type": "code",
   "execution_count": 39,
   "id": "e7c9fa1a-e88f-49b0-bf89-990453cc628a",
   "metadata": {
    "tags": []
   },
   "outputs": [
    {
     "name": "stdout",
     "output_type": "stream",
     "text": [
      "163.27.187.39 reason: Software caused\n",
      "163.27.187.39 reason: Permission denied\n"
     ]
    }
   ],
   "source": [
    "syslogKlogin.klogin_fail('../../logs/Linux_2k.log', ['klogind\\[[0-9]{3,8}\\]: Authentication failed from.*'])"
   ]
  },
  {
   "cell_type": "markdown",
   "id": "6f31cd1d-2130-4afe-a2d8-520e485b4152",
   "metadata": {},
   "source": [
    "### SSH Auth Succeed"
   ]
  },
  {
   "cell_type": "code",
   "execution_count": 40,
   "id": "d3553dce-121c-456c-b1dc-0bc22be995bd",
   "metadata": {
    "tags": []
   },
   "outputs": [
    {
     "name": "stdout",
     "output_type": "stream",
     "text": [
      "test\n"
     ]
    }
   ],
   "source": [
    "syslogSSHUsers.ssh_success('../../logs/Linux_2k.log', ['sshd\\(pam_unix\\).*session opened for user.*'])"
   ]
  },
  {
   "cell_type": "code",
   "execution_count": null,
   "id": "701c64b2-d628-4327-8c70-b46d5c0e4226",
   "metadata": {},
   "outputs": [],
   "source": []
  }
 ],
 "metadata": {
  "kernelspec": {
   "display_name": "Python 3 (ipykernel)",
   "language": "python",
   "name": "python3"
  },
  "language_info": {
   "codemirror_mode": {
    "name": "ipython",
    "version": 3
   },
   "file_extension": ".py",
   "mimetype": "text/x-python",
   "name": "python",
   "nbconvert_exporter": "python",
   "pygments_lexer": "ipython3",
   "version": "3.8.12"
  }
 },
 "nbformat": 4,
 "nbformat_minor": 5
}
