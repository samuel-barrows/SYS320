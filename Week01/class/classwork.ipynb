{
 "cells": [
  {
   "cell_type": "code",
   "execution_count": null,
   "id": "5d478d8f-264a-430d-8b4b-42e51689ea55",
   "metadata": {},
   "outputs": [],
   "source": [
    "# create and interface to search through syslog files\n",
    "import re"
   ]
  },
  {
   "cell_type": "code",
   "execution_count": null,
   "id": "87cb84cd-c7f3-4fff-aae7-861f87b2c8c4",
   "metadata": {},
   "outputs": [],
   "source": [
    "#Open a file\n",
    "with open(\"smallSyslog.log\") as f:\n",
    "    \n",
    "    #read the file lines\n",
    "    contents = f.readlines()\n",
    "    \n"
   ]
  },
  {
   "cell_type": "code",
   "execution_count": null,
   "id": "c041ed4d-1ecf-443a-bc04-a790463bd70e",
   "metadata": {},
   "outputs": [],
   "source": [
    "print(contents)\n",
    "\n",
    "keywords = ['sshd\\(pam_unix\\)\\[[0-9]{3,8}\\]: authentication failure.*', 'session opened for user.*', 'ALERT.*', 'abnormally.*', 'exited abnormally.*']"
   ]
  },
  {
   "cell_type": "code",
   "execution_count": null,
   "id": "66f3e1c5-3575-48e1-9a6a-e90412e18268",
   "metadata": {},
   "outputs": [],
   "source": [
    "for line in contents:\n",
    "    for keyword in keywords:\n",
    "        #if keyword in line:\n",
    "        x = re.findall(r''+keyword+'', line)\n",
    "        print(x)"
   ]
  }
 ],
 "metadata": {
  "kernelspec": {
   "display_name": "Python 3 (ipykernel)",
   "language": "python",
   "name": "python3"
  },
  "language_info": {
   "codemirror_mode": {
    "name": "ipython",
    "version": 3
   },
   "file_extension": ".py",
   "mimetype": "text/x-python",
   "name": "python",
   "nbconvert_exporter": "python",
   "pygments_lexer": "ipython3",
   "version": "3.8.12"
  }
 },
 "nbformat": 4,
 "nbformat_minor": 5
}
