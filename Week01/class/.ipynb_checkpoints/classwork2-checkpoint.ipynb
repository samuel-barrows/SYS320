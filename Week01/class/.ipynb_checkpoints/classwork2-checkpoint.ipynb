{
 "cells": [
  {
   "cell_type": "code",
   "execution_count": 4,
   "id": "cf5c5e01-fe25-43d1-becb-ec2436e6e49e",
   "metadata": {},
   "outputs": [
    {
     "ename": "SyntaxError",
     "evalue": "invalid syntax (584737753.py, line 3)",
     "output_type": "error",
     "traceback": [
      "\u001b[0;36m  File \u001b[0;32m\"/var/folders/5b/pttxnzq90sx0pj978wvn90mw0000gn/T/ipykernel_26455/584737753.py\"\u001b[0;36m, line \u001b[0;32m3\u001b[0m\n\u001b[0;31m    import ../homework/syslogKlogin as syslogKlogin\u001b[0m\n\u001b[0m           ^\u001b[0m\n\u001b[0;31mSyntaxError\u001b[0m\u001b[0;31m:\u001b[0m invalid syntax\n"
     ]
    }
   ],
   "source": [
    "import syslogSSH\n",
    "import syslogSU\n",
    "import syslogKlogin\n",
    "import importlib\n",
    "importlib.reload(syslogSSH)\n",
    "importlib.reload(syslogSU)\n",
    "importlib.reload(syslogKlogin)"
   ]
  },
  {
   "cell_type": "markdown",
   "id": "b5e530f8-1acf-4fac-8d32-4265f93616e1",
   "metadata": {},
   "source": [
    "# Review System Logs"
   ]
  },
  {
   "cell_type": "markdown",
   "id": "d31b3a49-0ea2-44dd-9a68-c1b79131e860",
   "metadata": {},
   "source": [
    "### ssh auth fail"
   ]
  },
  {
   "cell_type": "code",
   "execution_count": 33,
   "id": "343774f3-20f3-4b50-9f59-1ee619ccc6cd",
   "metadata": {},
   "outputs": [
    {
     "name": "stdout",
     "output_type": "stream",
     "text": [
      "rhost=218.188.2.4\n",
      "rhost=220-135-151-1.hinet-ip.hinet.net\n"
     ]
    }
   ],
   "source": [
    "syslogSSH.ssh_fail('../../logs/smallSyslog.log', ['sshd\\(pam_unix\\).*authentication failure.*'])"
   ]
  },
  {
   "cell_type": "markdown",
   "id": "94d8a4f4-89f4-4eb5-a9ce-a8e03da514d2",
   "metadata": {},
   "source": [
    "### SU Open"
   ]
  },
  {
   "cell_type": "code",
   "execution_count": 34,
   "id": "41bd8eb8-8192-4151-9059-7ebcf00df76b",
   "metadata": {},
   "outputs": [
    {
     "name": "stdout",
     "output_type": "stream",
     "text": [
      "news\n",
      "cyrus\n"
     ]
    }
   ],
   "source": [
    "syslogSU.su_open('../../logs/smallSyslog.log', ['su\\(pam_unix\\).*session opened for user.*'])"
   ]
  },
  {
   "cell_type": "markdown",
   "id": "0ff1ed3a-87b4-405a-af5c-70f3e4203fbe",
   "metadata": {},
   "source": [
    "### Klogind Failure"
   ]
  },
  {
   "cell_type": "code",
   "execution_count": 2,
   "id": "e7c9fa1a-e88f-49b0-bf89-990453cc628a",
   "metadata": {},
   "outputs": [
    {
     "ename": "NameError",
     "evalue": "name 'syslogKlogin' is not defined",
     "output_type": "error",
     "traceback": [
      "\u001b[0;31m---------------------------------------------------------------------------\u001b[0m",
      "\u001b[0;31mNameError\u001b[0m                                 Traceback (most recent call last)",
      "\u001b[0;32m/var/folders/5b/pttxnzq90sx0pj978wvn90mw0000gn/T/ipykernel_26455/2644882898.py\u001b[0m in \u001b[0;36m<module>\u001b[0;34m\u001b[0m\n\u001b[0;32m----> 1\u001b[0;31m \u001b[0msyslogKlogin\u001b[0m\u001b[0;34m.\u001b[0m\u001b[0msu_open\u001b[0m\u001b[0;34m(\u001b[0m\u001b[0;34m'../../logs/Linux_2k.log'\u001b[0m\u001b[0;34m,\u001b[0m \u001b[0;34m[\u001b[0m\u001b[0;34m'klogind\\[[1-9]\\]*.Authentication failed from.*'\u001b[0m\u001b[0;34m]\u001b[0m\u001b[0;34m)\u001b[0m\u001b[0;34m\u001b[0m\u001b[0;34m\u001b[0m\u001b[0m\n\u001b[0m",
      "\u001b[0;31mNameError\u001b[0m: name 'syslogKlogin' is not defined"
     ]
    }
   ],
   "source": [
    "syslogKlogin.su_open('../../logs/Linux_2k.log', ['klogind\\[[1-9]\\]*.Authentication failed from.*'])"
   ]
  },
  {
   "cell_type": "code",
   "execution_count": null,
   "id": "a48dd1f9-17e2-4d58-9f12-fbe99367af02",
   "metadata": {},
   "outputs": [],
   "source": []
  }
 ],
 "metadata": {
  "kernelspec": {
   "display_name": "Python 3 (ipykernel)",
   "language": "python",
   "name": "python3"
  },
  "language_info": {
   "codemirror_mode": {
    "name": "ipython",
    "version": 3
   },
   "file_extension": ".py",
   "mimetype": "text/x-python",
   "name": "python",
   "nbconvert_exporter": "python",
   "pygments_lexer": "ipython3",
   "version": "3.8.12"
  }
 },
 "nbformat": 4,
 "nbformat_minor": 5
}
