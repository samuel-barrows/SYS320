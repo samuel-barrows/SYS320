{
 "cells": [
  {
   "cell_type": "code",
   "execution_count": 31,
   "id": "cf5c5e01-fe25-43d1-becb-ec2436e6e49e",
   "metadata": {},
   "outputs": [
    {
     "data": {
      "text/plain": [
       "<module 'syslogSU' from 'C:\\\\Users\\\\SamThinkpad\\\\school\\\\ThirdYear\\\\SecondSemester\\\\sys320-new\\\\Week01\\\\class\\\\syslogSU.py'>"
      ]
     },
     "execution_count": 31,
     "metadata": {},
     "output_type": "execute_result"
    }
   ],
   "source": [
    "import syslogSSH\n",
    "import syslogSU\n",
    "import importlib\n",
    "importlib.reload(syslogSSH)\n",
    "importlib.reload(syslogSU)"
   ]
  },
  {
   "cell_type": "markdown",
   "id": "b5e530f8-1acf-4fac-8d32-4265f93616e1",
   "metadata": {},
   "source": [
    "# Review System Logs"
   ]
  },
  {
   "cell_type": "markdown",
   "id": "d31b3a49-0ea2-44dd-9a68-c1b79131e860",
   "metadata": {},
   "source": [
    "### ssh auth fail"
   ]
  },
  {
   "cell_type": "code",
   "execution_count": 33,
   "id": "343774f3-20f3-4b50-9f59-1ee619ccc6cd",
   "metadata": {},
   "outputs": [
    {
     "name": "stdout",
     "output_type": "stream",
     "text": [
      "rhost=218.188.2.4\n",
      "rhost=220-135-151-1.hinet-ip.hinet.net\n"
     ]
    }
   ],
   "source": [
    "syslogSSH.ssh_fail('../../logs/smallSyslog.log', ['sshd\\(pam_unix\\).*authentication failure.*'])"
   ]
  },
  {
   "cell_type": "markdown",
   "id": "94d8a4f4-89f4-4eb5-a9ce-a8e03da514d2",
   "metadata": {},
   "source": [
    "### SU Open"
   ]
  },
  {
   "cell_type": "code",
   "execution_count": 34,
   "id": "41bd8eb8-8192-4151-9059-7ebcf00df76b",
   "metadata": {},
   "outputs": [
    {
     "name": "stdout",
     "output_type": "stream",
     "text": [
      "news\n",
      "cyrus\n"
     ]
    }
   ],
   "source": [
    "syslogSU.su_open('../../logs/smallSyslog.log', ['su\\(pam_unix\\).*session opened for user.*'])"
   ]
  },
  {
   "cell_type": "code",
   "execution_count": null,
   "id": "59c7f0a2-5141-4cdb-975f-0de8254e01bc",
   "metadata": {},
   "outputs": [],
   "source": []
  }
 ],
 "metadata": {
  "kernelspec": {
   "display_name": "Python 3 (ipykernel)",
   "language": "python",
   "name": "python3"
  },
  "language_info": {
   "codemirror_mode": {
    "name": "ipython",
    "version": 3
   },
   "file_extension": ".py",
   "mimetype": "text/x-python",
   "name": "python",
   "nbconvert_exporter": "python",
   "pygments_lexer": "ipython3",
   "version": "3.8.12"
  }
 },
 "nbformat": 4,
 "nbformat_minor": 5
}
