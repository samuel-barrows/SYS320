{
 "cells": [
  {
   "cell_type": "code",
   "execution_count": 30,
   "id": "cf5c5e01-fe25-43d1-becb-ec2436e6e49e",
   "metadata": {},
   "outputs": [
    {
     "data": {
      "text/plain": [
       "<module 'qqLogCheck' from '/Users/sambarrows/school/ThirdYear/SecondSemester/sys320-new/Week02/homework/qqLogCheck.py'>"
      ]
     },
     "execution_count": 30,
     "metadata": {},
     "output_type": "execute_result"
    }
   ],
   "source": [
    "import importlib\n",
    "import apacheLogCheck\n",
    "import qqLogCheck\n",
    "importlib.reload(apacheLogCheck)\n",
    "importlib.reload(qqLogCheck)"
   ]
  },
  {
   "cell_type": "markdown",
   "id": "b5e530f8-1acf-4fac-8d32-4265f93616e1",
   "metadata": {},
   "source": [
    "# Review System Logs"
   ]
  },
  {
   "cell_type": "markdown",
   "id": "e0b60f14-73f5-4207-bf4c-5069863fd263",
   "metadata": {},
   "source": [
    "### Apache Log Check"
   ]
  },
  {
   "cell_type": "code",
   "execution_count": 31,
   "id": "a1cda7e8-b3d7-4690-bef8-6baa8aef06df",
   "metadata": {},
   "outputs": [
    {
     "name": "stdout",
     "output_type": "stream",
     "text": [
      "404 GET /mediawiki/index.php?title=Main_Page\n",
      "404 GET /wordpress/wp-login.php\n"
     ]
    }
   ],
   "source": [
    "apacheLogCheck.apache_events(\"../../logs/access.log\", \"apache\", \"php\")"
   ]
  },
  {
   "cell_type": "code",
   "execution_count": 32,
   "id": "aa4ed3ee",
   "metadata": {},
   "outputs": [
    {
     "name": "stdout",
     "output_type": "stream",
     "text": [
      "404 GET /cgi-bin/htsearch?Exclude=%60/etc/passwd%60\n",
      "404 POST /cgi-bin/test-cgi\n",
      "404 GET /cgi-bin/test-cgi\n"
     ]
    }
   ],
   "source": [
    "apacheLogCheck.apache_events(\"../../logs/access.log\", \"apache\", \"cgi\")"
   ]
  },
  {
   "cell_type": "markdown",
   "id": "61876e5d",
   "metadata": {},
   "source": [
    "### Search for QQ threats sending and recieving bytes"
   ]
  },
  {
   "cell_type": "code",
   "execution_count": 33,
   "id": "3ed6baf2",
   "metadata": {},
   "outputs": [
    {
     "name": "stdout",
     "output_type": "stream",
     "text": [
      "QQ.exe tcpconn3.tencent.com:80 sent:0 recieved:0\n",
      "QQ.exe 2052.flash2-http.qq.com:80 sent:466 recieved:125682\n",
      "QQProtectUpd.exe qdun-data.qq.com:443 sent:261 recieved:70\n",
      "QQ.exe cgi.qqweb.qq.com:80 sent:477 recieved:448\n",
      "QQ.exe qqmail.tencent.com:80 sent:336 recieved:2854\n",
      "QQExternal.exe proxy.cse.cuhk.edu.hk:5070 sent:1644 recieved:388\n",
      "QQ.exe showxml.qq.com:80 sent:600 recieved:1716\n",
      "QQ.exe tcpconn6.tencent.com:80 sent:0 recieved:0\n",
      "QQ.exe tcpconn6.tencent.com:443 sent:0 recieved:0\n",
      "QQ.exe tcpconn.tencent.com:80 sent:133 recieved:0\n",
      "QQ.exe tcpconn3.tencent.com:443 sent:149 recieved:121\n"
     ]
    }
   ],
   "source": [
    "qqLogCheck.log_search(\"../../logs/Proxifier_2k.log\", \"proxifier\", \"qqbytes\")"
   ]
  },
  {
   "cell_type": "markdown",
   "id": "982b9228",
   "metadata": {},
   "source": [
    "### Show opened connections by QQ"
   ]
  },
  {
   "cell_type": "code",
   "execution_count": 34,
   "id": "8b2e23eb",
   "metadata": {},
   "outputs": [
    {
     "name": "stdout",
     "output_type": "stream",
     "text": [
      "QQ.exe opened to: tcpconn3.tencent.com:443 with: HTTPS\n",
      "QQProtectUpd.exe opened to: qdun-data.qq.com:443 with: HTTPS\n",
      "QQ.exe opened to: tcpconn6.tencent.com:80 with: HTTPS\n",
      "QQ.exe opened to: tcpconn6.tencent.com:443 with: HTTPS\n",
      "QQ.exe opened to: cgi.qqweb.qq.com:80 with: HTTPS\n",
      "QQ.exe opened to: tcpconn.tencent.com:80 with: HTTPS\n",
      "QQPlayer.exe opened to: btrace.qq.com:80 with: HTTPS\n",
      "QQ.exe opened to: 183.60.49.182:443 with: HTTPS\n"
     ]
    }
   ],
   "source": [
    "qqLogCheck.log_search(\"../../logs/Proxifier_2k.log\", \"proxifier\", \"qqopen\")"
   ]
  }
 ],
 "metadata": {
  "kernelspec": {
   "display_name": "Python 3 (ipykernel)",
   "language": "python",
   "name": "python3"
  },
  "language_info": {
   "codemirror_mode": {
    "name": "ipython",
    "version": 3
   },
   "file_extension": ".py",
   "mimetype": "text/x-python",
   "name": "python",
   "nbconvert_exporter": "python",
   "pygments_lexer": "ipython3",
   "version": "3.9.9"
  }
 },
 "nbformat": 4,
 "nbformat_minor": 5
}
