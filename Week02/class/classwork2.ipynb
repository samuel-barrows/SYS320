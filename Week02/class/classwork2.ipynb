{
 "cells": [
  {
   "cell_type": "code",
   "execution_count": 19,
   "id": "cf5c5e01-fe25-43d1-becb-ec2436e6e49e",
   "metadata": {},
   "outputs": [
    {
     "data": {
      "text/plain": [
       "<module 'apacheLogCheck' from '/Users/sambarrows/school/ThirdYear/SecondSemester/sys320-new/Week02/class/apacheLogCheck.py'>"
      ]
     },
     "execution_count": 19,
     "metadata": {},
     "output_type": "execute_result"
    }
   ],
   "source": [
    "import importlib\n",
    "import apacheLogCheck\n",
    "importlib.reload(apacheLogCheck)"
   ]
  },
  {
   "cell_type": "markdown",
   "id": "b5e530f8-1acf-4fac-8d32-4265f93616e1",
   "metadata": {},
   "source": [
    "# Review System Logs"
   ]
  },
  {
   "cell_type": "markdown",
   "id": "e0b60f14-73f5-4207-bf4c-5069863fd263",
   "metadata": {},
   "source": [
    "### Apache Log Check"
   ]
  },
  {
   "cell_type": "code",
   "execution_count": 8,
   "id": "a1cda7e8-b3d7-4690-bef8-6baa8aef06df",
   "metadata": {},
   "outputs": [
    {
     "name": "stdout",
     "output_type": "stream",
     "text": [
      "GET /wordpress/wp-login.php 404\n",
      "GET /mediawiki/index.php?title=Main_Page 404\n"
     ]
    }
   ],
   "source": [
    "apacheLogCheck.apache_events(\"../../logs/access.log\", \"apache\", \"php\")"
   ]
  },
  {
   "cell_type": "code",
   "execution_count": 20,
   "id": "aa4ed3ee",
   "metadata": {},
   "outputs": [
    {
     "name": "stdout",
     "output_type": "stream",
     "text": [
      "['GET', '/cgi-bin/htsearch?Exclude=%60/etc/passwd%60', 'HTTP/1.1\"', '404', '435', '\"-\"', '\"-\"']\n",
      "['GET', '/cgi-bin/htsearch?Exclude=%60/etc/passwd%60', 'HTTP/1.1\"', '404', '4996', '\"-\"', '\"-\"']\n",
      "['GET', '/cgi-bin/test-cgi', 'HTTP/1.1\"', '404', '435', '\"-\"', '\"-\"']\n",
      "['GET', '/cgi-bin/test-cgi', 'HTTP/1.1\"', '404', '4996', '\"-\"', '\"-\"']\n",
      "['POST', '/cgi-bin/test-cgi', 'HTTP/1.1\"', '404', '435', '\"-\"', '\"-\"']\n",
      "['POST', '/cgi-bin/test-cgi', 'HTTP/1.1\"', '404', '4996', '\"-\"', '\"-\"']\n",
      "404 GET /cgi-bin/test-cgi\n",
      "404 GET /cgi-bin/htsearch?Exclude=%60/etc/passwd%60\n",
      "404 POST /cgi-bin/test-cgi\n"
     ]
    }
   ],
   "source": [
    "apacheLogCheck.apache_events(\"../../logs/access.log\", \"apache\", \"cgi\")"
   ]
  }
 ],
 "metadata": {
  "kernelspec": {
   "display_name": "Python 3 (ipykernel)",
   "language": "python",
   "name": "python3"
  },
  "language_info": {
   "codemirror_mode": {
    "name": "ipython",
    "version": 3
   },
   "file_extension": ".py",
   "mimetype": "text/x-python",
   "name": "python",
   "nbconvert_exporter": "python",
   "pygments_lexer": "ipython3",
   "version": "3.9.9"
  }
 },
 "nbformat": 4,
 "nbformat_minor": 5
}
