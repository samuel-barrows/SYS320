{
 "cells": [
  {
   "cell_type": "markdown",
   "metadata": {},
   "source": [
    "## IOCs"
   ]
  },
  {
   "cell_type": "code",
   "execution_count": 12,
   "metadata": {},
   "outputs": [],
   "source": [
    "# Collecting information IOCs\n",
    "blind_files = [\"/etc/resolv.conf\", \"/etc/motd\", \"/etc/issue\", \"/etc/passwd\", \"/etc/shadow\"]\n",
    "system = [\"uname -a\", \"ps aux\", \"top -n 1 -d\", \"uname -m\", \"w\"]\n",
    "networking = [\"hostname -f\", \"ip addr show\", \"ip ro show\", \"ifconfig -a\", \"route -n\"]\n",
    "user_accounts = [\"cat /etc/passwd\", \"cat /etc/shadow\", \"/etc/security/passwd\", ]\n",
    "user_info = [\"ls -alh /home/*/\", \"ls -alh /home/*/.ssh/\", \"cat /home/*/.ssh/known_hosts\", \"cat /home/*/.ssh/authorized_keys\", \"cat /home/*/.hist\"]\n",
    "creds = [\"/home/*/.ssh/id*\", \"tmp/krb5cc_*\", \"/tmp/krb5.keytab\", \"/home/*/.gnupg/secrings.gpgs\"]\n",
    "configs = [\"ls -aRl /etc/ * awk '$1 ~ /w.$/' * grep -v lrw 2>/dev/nullte\", \"cat /etc/issue{,.net}\", \"cat /etc/master.passwd\", \"cat /etc/hosts\", \"cat /etc/group\"]\n",
    "distro = [\"uname -a\", \"lsb_release -d\", \"/etc/issue\", \"cat /etc/*release\", \"cat /etc/debian_version\"]\n",
    "package = [\"rpm -qa --last | head\", \"yum list | grep installed\", \"dpkg -l\", \"dpkg -l | grep -i \\\"linux-image\\\"\", \"dpkg --get-selections\"]\n",
    "package_source = [\"cat /etc/apt/sources.list\", \"ls -l /etc/yum.repos.d\", \"cat /etc/yum.conf\"]\n",
    "important_files = [\"ls -dlR */\", \"ls -alR | grep ^d\", \"find /var -type d\", \"ls -dl `find /var -type d`\", \"ls -dl `find /var -type d` | grep -v root\"]\n",
    "\n"
   ]
  },
  {
   "cell_type": "markdown",
   "metadata": {},
   "source": [
    "## Driver Functions"
   ]
  },
  {
   "cell_type": "code",
   "execution_count": 39,
   "metadata": {},
   "outputs": [],
   "source": [
    "# Set up files to download\n",
    "\n",
    "def user_file_download():\n",
    "    \"\"\"Ask the user what file they want to download and check if that file exists or not\"\"\"\n",
    "    fileToGet = input(\"What file do you want to get from the remote machine? \")\n",
    "    filename = fileToGet.split(\"/\")\n",
    "    filename = filename[-1]\n",
    "    if os.path.exists(\"./remoteFiles/\" + filename):\n",
    "        while True:\n",
    "            delete = input(\"A file with the same name already exists on your system. Would you like to delete it? (y/n)\")\n",
    "            if delete.lower() == \"y\":\n",
    "                os.remove(\"./remoteFiles/\" + filename)\n",
    "                break\n",
    "            elif delete.lower() == \"n\":\n",
    "                break\n",
    "    return fileToGet\n",
    "\n",
    "def user_file_upload():\n",
    "    \"\"\"Get the file that the user wants to upload to the remote server\"\"\"\n",
    "    while True:\n",
    "        fileToPost = input(\"What file would you want to upload? \")\n",
    "        if os.path.exists(fileToPost):\n",
    "            return fileToPost\n",
    "        else:\n",
    "            try_again = input(\"That file does not exist on your system. Would you like to retry? (y/n)\")\n",
    "            if try_again.lower() == \"y\": \n",
    "                break\n",
    "            else:\n",
    "                exit()\n",
    "\n",
    "def download_file(file):\n",
    "    \"\"\"Download the file over an already established ssh connection\"\"\"\n",
    "    # Start SFTP session\n",
    "    sftp = ssh.open_sftp()\n",
    "\n",
    "    # Files to download\n",
    "    filename = file.split('/')\n",
    "\n",
    "    # Local path to store files\n",
    "    local_path = \"remoteFiles/\" + filename[-1]\n",
    "\n",
    "    sftp.get(fileToGet, local_path)\n",
    "\n",
    "    ssh.close()\n",
    "\n",
    "def upload_file(file):\n",
    "    \"\"\"Upload a file to an already established ssh connection\"\"\"\n",
    "    # Start SFTP session\n",
    "    sftp = ssh.open_sftp()\n",
    "\n",
    "    # Files to Upload \n",
    "    filename = file.split('/')\n",
    "\n",
    "    # Remote path to put files\n",
    "    remote_path = filename[-1]\n",
    "\n",
    "    sftp.put(fileToPost, remote_path)\n",
    "\n",
    "    ssh.close()\n"
   ]
  },
  {
   "cell_type": "markdown",
   "metadata": {},
   "source": [
    "## Set up SSH connection"
   ]
  },
  {
   "cell_type": "code",
   "execution_count": 51,
   "metadata": {},
   "outputs": [],
   "source": [
    "import os\n",
    "import paramiko\n",
    "from getpass import getpass\n",
    "\n",
    "# ask the user if they want to upload or download\n",
    "uod = input(\"Would you like to upload a file or download a file? (u/d)\")\n",
    "if uod.lower() == \"d\":\n",
    "    fileToGet = user_file_download()\n",
    "elif uod.lower() == \"u\":\n",
    "    fileToPost = user_file_upload()\n",
    "\n",
    "#password prompt\n",
    "thePass = getpass(prompt=\"Please enter SSH password: \")\n",
    "\n",
    "#Host information\n",
    "host = \"192.168.1.12\"\n",
    "port = 22\n",
    "username = \"sam-adm\"\n",
    "password = thePass\n",
    "\n",
    "#attempt the connection\n",
    "try: \n",
    "    ssh = paramiko.SSHClient()\n",
    "    ssh.set_missing_host_key_policy(paramiko.AutoAddPolicy())\n",
    "    ssh.connect(host, port, username, password)\n",
    "except paramiko.AuthenticationException:\n",
    "    print(\"Authentication Failed\")\n"
   ]
  },
  {
   "cell_type": "markdown",
   "metadata": {},
   "source": [
    "## Download File"
   ]
  },
  {
   "cell_type": "code",
   "execution_count": 53,
   "metadata": {},
   "outputs": [],
   "source": [
    "# Download the file the user requested\n",
    "try:\n",
    "    download_file(fileToGet)\n",
    "except AttributeError:\n",
    "    print(\"No open SSH connection\")"
   ]
  },
  {
   "cell_type": "markdown",
   "metadata": {},
   "source": [
    "## Upload File"
   ]
  },
  {
   "cell_type": "code",
   "execution_count": 40,
   "metadata": {},
   "outputs": [
    {
     "name": "stdout",
     "output_type": "stream",
     "text": [
      "No open SSH connection\n"
     ]
    }
   ],
   "source": [
    "# Upload the file the user specified\n",
    "try:\n",
    "    upload_file(fileToGet)\n",
    "except AttributeError:\n",
    "    print(\"No open SSH connection\")"
   ]
  },
  {
   "cell_type": "markdown",
   "metadata": {},
   "source": [
    "## Run Command"
   ]
  },
  {
   "cell_type": "code",
   "execution_count": 52,
   "metadata": {},
   "outputs": [],
   "source": [
    "# Run our week 4 script on the remote system\n",
    "try:\n",
    "    ssh.exec_command(\"python3 fs.py -d /usr/bin > results.body\")\n",
    "except AttributeError:\n",
    "    print(\"No open SSH connection\")"
   ]
  }
 ],
 "metadata": {
  "interpreter": {
   "hash": "b0fa6594d8f4cbf19f97940f81e996739fb7646882a419484c72d19e05852a7e"
  },
  "kernelspec": {
   "display_name": "Python 3.9.9 64-bit",
   "language": "python",
   "name": "python3"
  },
  "language_info": {
   "codemirror_mode": {
    "name": "ipython",
    "version": 3
   },
   "file_extension": ".py",
   "mimetype": "text/x-python",
   "name": "python",
   "nbconvert_exporter": "python",
   "pygments_lexer": "ipython3",
   "version": "3.9.9"
  },
  "orig_nbformat": 4
 },
 "nbformat": 4,
 "nbformat_minor": 2
}
