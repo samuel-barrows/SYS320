{
 "cells": [
  {
   "cell_type": "code",
   "execution_count": 2,
   "metadata": {},
   "outputs": [],
   "source": [
    "import paramiko\n",
    "from getpass import getpass\n",
    "\n",
    "#password prompt\n",
    "thePass = getpass(prompt=\"Please enter SSH password: \")\n",
    "\n",
    "#Host information\n",
    "host = \"192.168.1.11\"\n",
    "port = 22\n",
    "username = \"sam-adm\"\n",
    "password = thePass\n",
    "\n",
    "try: \n",
    "    ssh = paramiko.SSHClient()\n",
    "    ssh.set_missing_host_key_policy(paramiko.AutoAddPolicy())\n",
    "    ssh.connect(host, port, username, password)\n",
    "except paramiko.AuthenticationException:\n",
    "    print(\"Authentication Failed\")"
   ]
  },
  {
   "cell_type": "code",
   "execution_count": 7,
   "metadata": {},
   "outputs": [
    {
     "ename": "PermissionError",
     "evalue": "[Errno 13] Permission denied",
     "output_type": "error",
     "traceback": [
      "\u001b[0;31m---------------------------------------------------------------------------\u001b[0m",
      "\u001b[0;31mPermissionError\u001b[0m                           Traceback (most recent call last)",
      "\u001b[1;32m/Users/sambarrows/school/ThirdYear/SecondSemester/sys320-new/Week06/class/sftpConsole.ipynb Cell 2'\u001b[0m in \u001b[0;36m<module>\u001b[0;34m\u001b[0m\n\u001b[1;32m     <a href='vscode-notebook-cell:/Users/sambarrows/school/ThirdYear/SecondSemester/sys320-new/Week06/class/sftpConsole.ipynb#ch0000001?line=12'>13</a>\u001b[0m     \u001b[39m# Local path to store files\u001b[39;00m\n\u001b[1;32m     <a href='vscode-notebook-cell:/Users/sambarrows/school/ThirdYear/SecondSemester/sys320-new/Week06/class/sftpConsole.ipynb#ch0000001?line=13'>14</a>\u001b[0m     local_path \u001b[39m=\u001b[39m \u001b[39m\"\u001b[39m\u001b[39mremoteFiles/\u001b[39m\u001b[39m\"\u001b[39m \u001b[39m+\u001b[39m filename[\u001b[39m-\u001b[39m\u001b[39m1\u001b[39m]\n\u001b[0;32m---> <a href='vscode-notebook-cell:/Users/sambarrows/school/ThirdYear/SecondSemester/sys320-new/Week06/class/sftpConsole.ipynb#ch0000001?line=15'>16</a>\u001b[0m     sftp\u001b[39m.\u001b[39;49mget(eachFile, local_path)\n\u001b[1;32m     <a href='vscode-notebook-cell:/Users/sambarrows/school/ThirdYear/SecondSemester/sys320-new/Week06/class/sftpConsole.ipynb#ch0000001?line=17'>18</a>\u001b[0m ssh\u001b[39m.\u001b[39mclose()\n",
      "File \u001b[0;32m/opt/homebrew/lib/python3.9/site-packages/paramiko/sftp_client.py:811\u001b[0m, in \u001b[0;36mSFTPClient.get\u001b[0;34m(self, remotepath, localpath, callback, prefetch)\u001b[0m\n\u001b[1;32m    <a href='file:///opt/homebrew/lib/python3.9/site-packages/paramiko/sftp_client.py?line=790'>791</a>\u001b[0m \u001b[39m\"\"\"\u001b[39;00m\n\u001b[1;32m    <a href='file:///opt/homebrew/lib/python3.9/site-packages/paramiko/sftp_client.py?line=791'>792</a>\u001b[0m \u001b[39mCopy a remote file (``remotepath``) from the SFTP server to the local\u001b[39;00m\n\u001b[1;32m    <a href='file:///opt/homebrew/lib/python3.9/site-packages/paramiko/sftp_client.py?line=792'>793</a>\u001b[0m \u001b[39mhost as ``localpath``.  Any exception raised by operations will be\u001b[39;00m\n\u001b[0;32m   (...)\u001b[0m\n\u001b[1;32m    <a href='file:///opt/homebrew/lib/python3.9/site-packages/paramiko/sftp_client.py?line=807'>808</a>\u001b[0m \u001b[39m    Added the ``prefetch`` keyword argument.\u001b[39;00m\n\u001b[1;32m    <a href='file:///opt/homebrew/lib/python3.9/site-packages/paramiko/sftp_client.py?line=808'>809</a>\u001b[0m \u001b[39m\"\"\"\u001b[39;00m\n\u001b[1;32m    <a href='file:///opt/homebrew/lib/python3.9/site-packages/paramiko/sftp_client.py?line=809'>810</a>\u001b[0m \u001b[39mwith\u001b[39;00m \u001b[39mopen\u001b[39m(localpath, \u001b[39m\"\u001b[39m\u001b[39mwb\u001b[39m\u001b[39m\"\u001b[39m) \u001b[39mas\u001b[39;00m fl:\n\u001b[0;32m--> <a href='file:///opt/homebrew/lib/python3.9/site-packages/paramiko/sftp_client.py?line=810'>811</a>\u001b[0m     size \u001b[39m=\u001b[39m \u001b[39mself\u001b[39;49m\u001b[39m.\u001b[39;49mgetfo(remotepath, fl, callback, prefetch)\n\u001b[1;32m    <a href='file:///opt/homebrew/lib/python3.9/site-packages/paramiko/sftp_client.py?line=811'>812</a>\u001b[0m s \u001b[39m=\u001b[39m os\u001b[39m.\u001b[39mstat(localpath)\n\u001b[1;32m    <a href='file:///opt/homebrew/lib/python3.9/site-packages/paramiko/sftp_client.py?line=812'>813</a>\u001b[0m \u001b[39mif\u001b[39;00m s\u001b[39m.\u001b[39mst_size \u001b[39m!=\u001b[39m size:\n",
      "File \u001b[0;32m/opt/homebrew/lib/python3.9/site-packages/paramiko/sftp_client.py:783\u001b[0m, in \u001b[0;36mSFTPClient.getfo\u001b[0;34m(self, remotepath, fl, callback, prefetch)\u001b[0m\n\u001b[1;32m    <a href='file:///opt/homebrew/lib/python3.9/site-packages/paramiko/sftp_client.py?line=761'>762</a>\u001b[0m \u001b[39m\"\"\"\u001b[39;00m\n\u001b[1;32m    <a href='file:///opt/homebrew/lib/python3.9/site-packages/paramiko/sftp_client.py?line=762'>763</a>\u001b[0m \u001b[39mCopy a remote file (``remotepath``) from the SFTP server and write to\u001b[39;00m\n\u001b[1;32m    <a href='file:///opt/homebrew/lib/python3.9/site-packages/paramiko/sftp_client.py?line=763'>764</a>\u001b[0m \u001b[39man open file or file-like object, ``fl``.  Any exception raised by\u001b[39;00m\n\u001b[0;32m   (...)\u001b[0m\n\u001b[1;32m    <a href='file:///opt/homebrew/lib/python3.9/site-packages/paramiko/sftp_client.py?line=779'>780</a>\u001b[0m \u001b[39m    Added the ``prefetch`` keyword argument.\u001b[39;00m\n\u001b[1;32m    <a href='file:///opt/homebrew/lib/python3.9/site-packages/paramiko/sftp_client.py?line=780'>781</a>\u001b[0m \u001b[39m\"\"\"\u001b[39;00m\n\u001b[1;32m    <a href='file:///opt/homebrew/lib/python3.9/site-packages/paramiko/sftp_client.py?line=781'>782</a>\u001b[0m file_size \u001b[39m=\u001b[39m \u001b[39mself\u001b[39m\u001b[39m.\u001b[39mstat(remotepath)\u001b[39m.\u001b[39mst_size\n\u001b[0;32m--> <a href='file:///opt/homebrew/lib/python3.9/site-packages/paramiko/sftp_client.py?line=782'>783</a>\u001b[0m \u001b[39mwith\u001b[39;00m \u001b[39mself\u001b[39;49m\u001b[39m.\u001b[39;49mopen(remotepath, \u001b[39m\"\u001b[39;49m\u001b[39mrb\u001b[39;49m\u001b[39m\"\u001b[39;49m) \u001b[39mas\u001b[39;00m fr:\n\u001b[1;32m    <a href='file:///opt/homebrew/lib/python3.9/site-packages/paramiko/sftp_client.py?line=783'>784</a>\u001b[0m     \u001b[39mif\u001b[39;00m prefetch:\n\u001b[1;32m    <a href='file:///opt/homebrew/lib/python3.9/site-packages/paramiko/sftp_client.py?line=784'>785</a>\u001b[0m         fr\u001b[39m.\u001b[39mprefetch(file_size)\n",
      "File \u001b[0;32m/opt/homebrew/lib/python3.9/site-packages/paramiko/sftp_client.py:372\u001b[0m, in \u001b[0;36mSFTPClient.open\u001b[0;34m(self, filename, mode, bufsize)\u001b[0m\n\u001b[1;32m    <a href='file:///opt/homebrew/lib/python3.9/site-packages/paramiko/sftp_client.py?line=369'>370</a>\u001b[0m     imode \u001b[39m|\u001b[39m\u001b[39m=\u001b[39m SFTP_FLAG_CREATE \u001b[39m|\u001b[39m SFTP_FLAG_EXCL\n\u001b[1;32m    <a href='file:///opt/homebrew/lib/python3.9/site-packages/paramiko/sftp_client.py?line=370'>371</a>\u001b[0m attrblock \u001b[39m=\u001b[39m SFTPAttributes()\n\u001b[0;32m--> <a href='file:///opt/homebrew/lib/python3.9/site-packages/paramiko/sftp_client.py?line=371'>372</a>\u001b[0m t, msg \u001b[39m=\u001b[39m \u001b[39mself\u001b[39;49m\u001b[39m.\u001b[39;49m_request(CMD_OPEN, filename, imode, attrblock)\n\u001b[1;32m    <a href='file:///opt/homebrew/lib/python3.9/site-packages/paramiko/sftp_client.py?line=372'>373</a>\u001b[0m \u001b[39mif\u001b[39;00m t \u001b[39m!=\u001b[39m CMD_HANDLE:\n\u001b[1;32m    <a href='file:///opt/homebrew/lib/python3.9/site-packages/paramiko/sftp_client.py?line=373'>374</a>\u001b[0m     \u001b[39mraise\u001b[39;00m SFTPError(\u001b[39m\"\u001b[39m\u001b[39mExpected handle\u001b[39m\u001b[39m\"\u001b[39m)\n",
      "File \u001b[0;32m/opt/homebrew/lib/python3.9/site-packages/paramiko/sftp_client.py:822\u001b[0m, in \u001b[0;36mSFTPClient._request\u001b[0;34m(self, t, *arg)\u001b[0m\n\u001b[1;32m    <a href='file:///opt/homebrew/lib/python3.9/site-packages/paramiko/sftp_client.py?line=819'>820</a>\u001b[0m \u001b[39mdef\u001b[39;00m \u001b[39m_request\u001b[39m(\u001b[39mself\u001b[39m, t, \u001b[39m*\u001b[39marg):\n\u001b[1;32m    <a href='file:///opt/homebrew/lib/python3.9/site-packages/paramiko/sftp_client.py?line=820'>821</a>\u001b[0m     num \u001b[39m=\u001b[39m \u001b[39mself\u001b[39m\u001b[39m.\u001b[39m_async_request(\u001b[39mtype\u001b[39m(\u001b[39mNone\u001b[39;00m), t, \u001b[39m*\u001b[39marg)\n\u001b[0;32m--> <a href='file:///opt/homebrew/lib/python3.9/site-packages/paramiko/sftp_client.py?line=821'>822</a>\u001b[0m     \u001b[39mreturn\u001b[39;00m \u001b[39mself\u001b[39;49m\u001b[39m.\u001b[39;49m_read_response(num)\n",
      "File \u001b[0;32m/opt/homebrew/lib/python3.9/site-packages/paramiko/sftp_client.py:874\u001b[0m, in \u001b[0;36mSFTPClient._read_response\u001b[0;34m(self, waitfor)\u001b[0m\n\u001b[1;32m    <a href='file:///opt/homebrew/lib/python3.9/site-packages/paramiko/sftp_client.py?line=870'>871</a>\u001b[0m \u001b[39mif\u001b[39;00m num \u001b[39m==\u001b[39m waitfor:\n\u001b[1;32m    <a href='file:///opt/homebrew/lib/python3.9/site-packages/paramiko/sftp_client.py?line=871'>872</a>\u001b[0m     \u001b[39m# synchronous\u001b[39;00m\n\u001b[1;32m    <a href='file:///opt/homebrew/lib/python3.9/site-packages/paramiko/sftp_client.py?line=872'>873</a>\u001b[0m     \u001b[39mif\u001b[39;00m t \u001b[39m==\u001b[39m CMD_STATUS:\n\u001b[0;32m--> <a href='file:///opt/homebrew/lib/python3.9/site-packages/paramiko/sftp_client.py?line=873'>874</a>\u001b[0m         \u001b[39mself\u001b[39;49m\u001b[39m.\u001b[39;49m_convert_status(msg)\n\u001b[1;32m    <a href='file:///opt/homebrew/lib/python3.9/site-packages/paramiko/sftp_client.py?line=874'>875</a>\u001b[0m     \u001b[39mreturn\u001b[39;00m t, msg\n\u001b[1;32m    <a href='file:///opt/homebrew/lib/python3.9/site-packages/paramiko/sftp_client.py?line=876'>877</a>\u001b[0m \u001b[39m# can not rewrite this to deal with E721, either as a None check\u001b[39;00m\n\u001b[1;32m    <a href='file:///opt/homebrew/lib/python3.9/site-packages/paramiko/sftp_client.py?line=877'>878</a>\u001b[0m \u001b[39m# nor as not an instance of None or NoneType\u001b[39;00m\n",
      "File \u001b[0;32m/opt/homebrew/lib/python3.9/site-packages/paramiko/sftp_client.py:905\u001b[0m, in \u001b[0;36mSFTPClient._convert_status\u001b[0;34m(self, msg)\u001b[0m\n\u001b[1;32m    <a href='file:///opt/homebrew/lib/python3.9/site-packages/paramiko/sftp_client.py?line=902'>903</a>\u001b[0m     \u001b[39mraise\u001b[39;00m \u001b[39mIOError\u001b[39;00m(errno\u001b[39m.\u001b[39mENOENT, text)\n\u001b[1;32m    <a href='file:///opt/homebrew/lib/python3.9/site-packages/paramiko/sftp_client.py?line=903'>904</a>\u001b[0m \u001b[39melif\u001b[39;00m code \u001b[39m==\u001b[39m SFTP_PERMISSION_DENIED:\n\u001b[0;32m--> <a href='file:///opt/homebrew/lib/python3.9/site-packages/paramiko/sftp_client.py?line=904'>905</a>\u001b[0m     \u001b[39mraise\u001b[39;00m \u001b[39mIOError\u001b[39;00m(errno\u001b[39m.\u001b[39mEACCES, text)\n\u001b[1;32m    <a href='file:///opt/homebrew/lib/python3.9/site-packages/paramiko/sftp_client.py?line=905'>906</a>\u001b[0m \u001b[39melse\u001b[39;00m:\n\u001b[1;32m    <a href='file:///opt/homebrew/lib/python3.9/site-packages/paramiko/sftp_client.py?line=906'>907</a>\u001b[0m     \u001b[39mraise\u001b[39;00m \u001b[39mIOError\u001b[39;00m(text)\n",
      "\u001b[0;31mPermissionError\u001b[0m: [Errno 13] Permission denied"
     ]
    }
   ],
   "source": [
    "# Start SFTP session\n",
    "sftp = ssh.open_sftp()\n",
    "\n",
    "# Files to download\n",
    "files = ['/etc/hosts', '/etc/passwd']\n",
    "\n",
    "\n",
    "# Download all files\n",
    "for eachFile in files:\n",
    "\n",
    "    filename = eachFile.split('/')\n",
    "\n",
    "    # Local path to store files\n",
    "    local_path = \"remoteFiles/\" + filename[-1]\n",
    "\n",
    "    sftp.get(eachFile, local_path)\n",
    "\n",
    "ssh.close()"
   ]
  }
 ],
 "metadata": {
  "interpreter": {
   "hash": "b0fa6594d8f4cbf19f97940f81e996739fb7646882a419484c72d19e05852a7e"
  },
  "kernelspec": {
   "display_name": "Python 3.9.9 64-bit",
   "language": "python",
   "name": "python3"
  },
  "language_info": {
   "codemirror_mode": {
    "name": "ipython",
    "version": 3
   },
   "file_extension": ".py",
   "mimetype": "text/x-python",
   "name": "python",
   "nbconvert_exporter": "python",
   "pygments_lexer": "ipython3",
   "version": "3.9.9"
  },
  "orig_nbformat": 4
 },
 "nbformat": 4,
 "nbformat_minor": 2
}
