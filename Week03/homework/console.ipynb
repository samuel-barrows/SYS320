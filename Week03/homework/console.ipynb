{
 "cells": [
  {
   "cell_type": "markdown",
   "metadata": {},
   "source": [
    "# URLHAUS"
   ]
  },
  {
   "cell_type": "code",
   "execution_count": 23,
   "metadata": {},
   "outputs": [
    {
     "data": {
      "text/plain": [
       "<module 'urlHaus' from '/Users/sambarrows/school/ThirdYear/SecondSemester/sys320-new/Week03/homework/urlHaus.py'>"
      ]
     },
     "execution_count": 23,
     "metadata": {},
     "output_type": "execute_result"
    }
   ],
   "source": [
    "import urlHaus\n",
    "import importlib\n",
    "importlib.reload(urlHaus)\n"
   ]
  },
  {
   "cell_type": "code",
   "execution_count": 24,
   "metadata": {},
   "outputs": [
    {
     "name": "stdout",
     "output_type": "stream",
     "text": [
      "\n",
      "                    URL: hxxp://103.171.0.134/Registry/.win32.exe \n",
      "                    Info: None \n",
      "                    ************************************************************\n",
      "\n",
      "                    URL: hxxp://198.46.132.195/Registry/.win32.exe \n",
      "                    Info: None \n",
      "                    ************************************************************\n",
      "\n",
      "                    URL: hxxp://103.89.90.10/Registry/.win32.exe \n",
      "                    Info: None \n",
      "                    ************************************************************\n",
      "\n",
      "                    URL: hxxp://103.171.0.134/googleCRC/.win32.exe \n",
      "                    Info: None \n",
      "                    ************************************************************\n",
      "\n",
      "                    URL: hxxp://198.46.132.195/googleCRC/.win32.exe \n",
      "                    Info: None \n",
      "                    ************************************************************\n",
      "\n",
      "                    URL: hxxp://103.171.0.134/glcouldB2/.win32.exe \n",
      "                    Info: None \n",
      "                    ************************************************************\n",
      "\n",
      "                    URL: hxxp://103.171.0.134/couldA9/.win32.exe \n",
      "                    Info: None \n",
      "                    ************************************************************\n",
      "\n",
      "                    URL: hxxp://103.89.90.10/couldA9/.win32.exe \n",
      "                    Info: None \n",
      "                    ************************************************************\n",
      "\n",
      "                    URL: hxxp://103.114.105.38/gcould/.win32.exe \n",
      "                    Info: None \n",
      "                    ************************************************************\n",
      "\n",
      "                    URL: hxxp://103.89.90.10/winos11pro/.win32.exe \n",
      "                    Info: None \n",
      "                    ************************************************************\n",
      "\n",
      "                    URL: hxxp://103.89.90.10/googlecould/.win32.exe \n",
      "                    Info: None \n",
      "                    ************************************************************\n",
      "\n",
      "                    URL: hxxp://103.114.105.38/googlecould/.win32.exe \n",
      "                    Info: None \n",
      "                    ************************************************************\n",
      "\n",
      "                    URL: hxxp://103.114.105.38/intel087(R)/.win32.exe \n",
      "                    Info: 2022-01-25 01:XX:XX \n",
      "                    ************************************************************\n",
      "\n",
      "                    URL: hxxp://103.114.105.38/intel(R)/.win32.exe \n",
      "                    Info: 2022-01-25 01:XX:XX \n",
      "                    ************************************************************\n",
      "\n",
      "                    URL: hxxp://103.89.90.10/intel(R)/.win32.exe \n",
      "                    Info: None \n",
      "                    ************************************************************\n",
      "\n",
      "                    URL: hxxp://103.114.105.38/intelpro/.win32.exe \n",
      "                    Info: 2022-01-25 01:XX:XX \n",
      "                    ************************************************************\n",
      "\n",
      "                    URL: hxxp://103.89.90.10/oswindows10pro/.win32.exe \n",
      "                    Info: 2022-01-19 00:XX:XX \n",
      "                    ************************************************************\n",
      "\n",
      "                    URL: hxxp://103.114.105.38/oswindows10pro/.win32.exe \n",
      "                    Info: 2022-01-25 00:XX:XX \n",
      "                    ************************************************************\n",
      "\n",
      "                    URL: hxxp://103.114.105.38/winos11pro/.win32.exe \n",
      "                    Info: 2022-01-25 01:XX:XX \n",
      "                    ************************************************************\n",
      "\n",
      "                    URL: hxxp://103.114.105.38/wwindows8/.win32.exe \n",
      "                    Info: 2022-01-25 01:XX:XX \n",
      "                    ************************************************************\n",
      "\n",
      "                    URL: hxxp://103.114.105.38/windows10/.win32.exe \n",
      "                    Info: 2022-01-25 01:XX:XX \n",
      "                    ************************************************************\n",
      "\n",
      "                    URL: hxxp://103.114.105.38/savecloud2091/.win32.exe \n",
      "                    Info: 2022-01-25 01:XX:XX \n",
      "                    ************************************************************\n"
     ]
    }
   ],
   "source": [
    "urlHaus.urlHausOpen('../../logs/urlHaus.csv', ['win32'])"
   ]
  }
 ],
 "metadata": {
  "interpreter": {
   "hash": "e849244212d109cc3cb88a1154d46bb16288231cb9cc2770bd078951feabfff8"
  },
  "kernelspec": {
   "display_name": "Python 3.9.6 64-bit",
   "language": "python",
   "name": "python3"
  },
  "language_info": {
   "codemirror_mode": {
    "name": "ipython",
    "version": 3
   },
   "file_extension": ".py",
   "mimetype": "text/x-python",
   "name": "python",
   "nbconvert_exporter": "python",
   "pygments_lexer": "ipython3",
   "version": "3.9.9"
  },
  "orig_nbformat": 4
 },
 "nbformat": 4,
 "nbformat_minor": 2
}
